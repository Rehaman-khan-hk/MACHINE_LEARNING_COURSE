{
 "cells": [
  {
   "cell_type": "code",
   "execution_count": 1,
   "id": "3e0b1542-4416-4756-b96e-529744d24f0a",
   "metadata": {},
   "outputs": [],
   "source": [
    "import numpy as np"
   ]
  },
  {
   "cell_type": "code",
   "execution_count": 3,
   "id": "2fa3ecef-5943-4459-893d-7c6ff6e2b1f7",
   "metadata": {},
   "outputs": [
    {
     "name": "stdout",
     "output_type": "stream",
     "text": [
      "[[1 1 1]\n",
      " [1 1 1]\n",
      " [1 1 1]]\n"
     ]
    }
   ],
   "source": [
    "max_is = np.array([[1,1,1],[1,1,1],[1,1,1]])\n",
    "print (max_is)"
   ]
  },
  {
   "cell_type": "code",
   "execution_count": 6,
   "id": "39dbdecf-80e1-4f18-a02e-a8b64437d4cf",
   "metadata": {},
   "outputs": [
    {
     "data": {
      "text/plain": [
       "dtype('float64')"
      ]
     },
     "execution_count": 6,
     "metadata": {},
     "output_type": "execute_result"
    }
   ],
   "source": [
    "mx_1 = np.ones(5)\n",
    "mx_1 .dtype\n"
   ]
  },
  {
   "cell_type": "code",
   "execution_count": 7,
   "id": "41abe605-61a4-413e-9285-f185da035ef3",
   "metadata": {},
   "outputs": [],
   "source": [
    "mx_2 = np.ones((3,4))"
   ]
  },
  {
   "cell_type": "code",
   "execution_count": 8,
   "id": "83dd27c5-6389-4297-8123-4e42b869f35d",
   "metadata": {},
   "outputs": [
    {
     "name": "stdout",
     "output_type": "stream",
     "text": [
      "[[1. 1. 1. 1.]\n",
      " [1. 1. 1. 1.]\n",
      " [1. 1. 1. 1.]]\n"
     ]
    }
   ],
   "source": [
    "print(mx_2)"
   ]
  },
  {
   "cell_type": "code",
   "execution_count": 10,
   "id": "73c08fb4-a946-4482-88bf-f182ba9bf5c1",
   "metadata": {},
   "outputs": [
    {
     "name": "stdout",
     "output_type": "stream",
     "text": [
      "[[1 1 1 1]\n",
      " [1 1 1 1]\n",
      " [1 1 1 1]]\n"
     ]
    }
   ],
   "source": [
    "mx_3= np.ones((3,4),dtype=int)\n",
    "print(mx_3)"
   ]
  },
  {
   "cell_type": "code",
   "execution_count": 12,
   "id": "6cb47589-6bf2-49d8-b544-0a4dc2e3aa2b",
   "metadata": {},
   "outputs": [
    {
     "name": "stdout",
     "output_type": "stream",
     "text": [
      "[[0.000e+000 0.000e+000 0.000e+000]\n",
      " [0.000e+000 0.000e+000 3.893e-321]\n",
      " [0.000e+000 0.000e+000 0.000e+000]]\n"
     ]
    }
   ],
   "source": [
    "em_mx=np.empty((3,3))\n",
    "print(em_mx)"
   ]
  },
  {
   "cell_type": "code",
   "execution_count": null,
   "id": "33ce7798-ec1b-47f1-ae6c-63b5d88b68a0",
   "metadata": {},
   "outputs": [],
   "source": []
  }
 ],
 "metadata": {
  "kernelspec": {
   "display_name": "Python 3 (ipykernel)",
   "language": "python",
   "name": "python3"
  },
  "language_info": {
   "codemirror_mode": {
    "name": "ipython",
    "version": 3
   },
   "file_extension": ".py",
   "mimetype": "text/x-python",
   "name": "python",
   "nbconvert_exporter": "python",
   "pygments_lexer": "ipython3",
   "version": "3.12.7"
  }
 },
 "nbformat": 4,
 "nbformat_minor": 5
}
